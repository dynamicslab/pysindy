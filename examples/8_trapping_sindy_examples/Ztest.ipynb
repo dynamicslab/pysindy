{
 "cells": [
  {
   "cell_type": "markdown",
   "metadata": {},
   "source": [
    "# Extended Trapping SINDy - Sparse testing\n",
    "In \"Local stability guarantees for data-driven quadratically nonlinear systems\", we did not actually try to produce sparse solution for coefficients of the identified system, $\\Xi$. The reason is that in fact we do not know if the system is truly sparse or how sparse it is even if it is truly sparse. We need a theorem or a benchmark to evaluate to what extent we can trust the sparse model discovered by the algorithm.\n",
    "\n",
    "But before the evaluation, let us find out if the sparse regularizer will destroy our stability guarantees or the stability itself. We should remember that the conservative stability estimates given by the theorem do not reveal the exact long-term stability domain.\n",
    "\n",
    "We will try to explore this by a few examples."
   ]
  },
  {
   "cell_type": "code",
   "execution_count": null,
   "metadata": {},
   "outputs": [
    {
     "ename": "",
     "evalue": "",
     "output_type": "error",
     "traceback": [
      "\u001b[1;31mRunning cells with '.venv (Python 3.12.3)' requires the ipykernel package.\n",
      "\u001b[1;31mRun the following command to install 'ipykernel' into the Python environment. \n",
      "\u001b[1;31mCommand: '/home/mai/CodeWork/pysindy/.venv/bin/python -m pip install ipykernel -U --force-reinstall'"
     ]
    }
   ],
   "source": [
    "import warnings\n",
    "\n",
    "import numpy as np\n",
    "from matplotlib import pyplot as plt\n",
    "from scipy.integrate import solve_ivp\n",
    "\n",
    "import pysindy as ps\n",
    "from pysindy.utils import *\n",
    "\n",
    "# ignore warnings\n",
    "warnings.filterwarnings(\"ignore\")\n",
    "\n",
    "# Import useful functions\n",
    "from trapping_utils import (\n",
    "    integrator_keywords,\n",
    "    sindy_library,\n",
    "    make_fits,\n",
    "    obj_function,\n",
    "    check_local_stability,\n",
    "    make_trap_progress_plots,\n",
    ")"
   ]
  },
  {
   "cell_type": "code",
   "execution_count": null,
   "metadata": {},
   "outputs": [],
   "source": [
    "# Atmospheric oscillator from Tuwankotta et al and Trapping SINDy paper\n",
    "def oscillator(t, x, mu1=0.05, mu2=-0.01, omega=3.0, alpha=-2.0, beta=-5.0, sigma=1.1):\n",
    "    return [\n",
    "        mu1 * x[0] + sigma * x[0] * x[1] + 1e-3 * x[1] * x[2],\n",
    "        mu2 * x[1] + (omega + alpha * x[1] + beta * x[2]) * x[2] - sigma * x[0] ** 2,\n",
    "        mu2 * x[2] - (omega + alpha * x[1] + beta * x[2]) * x[1],\n",
    "    ]"
   ]
  },
  {
   "cell_type": "markdown",
   "metadata": {},
   "source": [
    "# Mean field model\n",
    "python tuple size\n",
    "    = \\begin{bmatrix} \\mu & -1 & 0 \\\\1 & \\mu & 0 \\\\ 0 & 0 & -1 \\\\ \\end{bmatrix}\n",
    "    \\begin{bmatrix} x \\\\ y \\\\z \\end{bmatrix}\n",
    "    + \\begin{bmatrix}- xz \\\\ - yz \\\\ x^2 + y^2\\end{bmatrix} = \\mathbf{L}\\mathbf{x} + \\mathbf{Q}\\mathbf{xx},\n",
    "$$\n",
    "where $\\mathbf{L}$ and $\\mathbf{Q}$ denote the linear and quadratic parts of the model, respectively."
   ]
  },
  {
   "cell_type": "code",
   "execution_count": null,
   "metadata": {},
   "outputs": [],
   "source": [
    "# define parameters\n",
    "r = 3\n",
    "mu = 1e-2\n",
    "dt = 0.01\n",
    "T = 500\n",
    "t = np.arange(0, T + dt, dt)\n",
    "t_span = (t[0], t[-1])\n",
    "x0 = np.random.rand(3) - 0.5\n",
    "x_train = solve_ivp(meanfield, t_span, x0, t_eval=t, \n",
    "                    args=(mu,), **integrator_keywords).y.T\n",
    "x0 = (mu, mu, 0)\n",
    "x_test = solve_ivp(meanfield, t_span, x0, t_eval=t, \n",
    "                   args=(mu,), **integrator_keywords).y.T\n"
   ]
  },
  {
   "cell_type": "markdown",
   "metadata": {},
   "source": [
    "Start training now without sparse regularization!"
   ]
  },
  {
   "cell_type": "code",
   "execution_count": null,
   "metadata": {},
   "outputs": [],
   "source": [
    "\n",
    "# define hyperparameters\n",
    "max_iter = 5000\n",
    "eta = 1.0e5\n",
    "alpha = 1e20\n",
    "beta = 1e-8\n",
    "threshold = 0.0\n",
    "alpha_m = 1e-1 * eta\n",
    "\n",
    "\n",
    "# run trapping SINDy algorithm\n",
    "sindy_opt = ps.TrappingSR3(\n",
    "    threshold=threshold, eta=eta,\n",
    "    gamma=-1,\n",
    "    alpha_m=alpha_m,\n",
    "    alpha=alpha,\n",
    "    beta=beta,\n",
    "    max_iter=max_iter,\n",
    "    verbose=True,\n",
    "    )\n",
    "\n",
    "model = ps.SINDy(\n",
    "    optimizer=sindy_opt,\n",
    "    feature_library=sindy_library,\n",
    ")\n",
    "model.fit(x_train, t=t)\n",
    "model.print()\n",
    "Xi = model.coefficients().T\n",
    "xdot_test = model.differentiate(x_test, t=t)\n",
    "xdot_test_pred = model.predict(x_test)\n",
    "x_train_pred = model.simulate(x_train[0, :], t, integrator_kws=integrator_keywords)\n",
    "x_test_pred = model.simulate(x_test[0, :], t, integrator_kws=integrator_keywords)\n",
    "\n",
    "# plotting and analysis\n",
    "make_fits(r, t, xdot_test, xdot_test_pred, x_test, x_test_pred, 'meanfield')\n",
    "make_lissajou(r, x_train, x_test, x_train_pred, x_test_pred, 'meanfield')\n",
    "E_pred = np.linalg.norm(x_test - x_test_pred) / np.linalg.norm(x_test)\n",
    "print('Frobenius Error = ', E_pred)\n",
    "mean_val = np.mean(x_test_pred, axis=0)\n",
    "mean_val = np.sqrt(np.sum(mean_val ** 2))\n",
    "check_local_stability(r, Xi, sindy_opt, mean_val)\n",
    "\n",
    "# compute relative Frobenius error in the model coefficients\n",
    "Xi_meanfield = np.zeros(Xi.shape)\n",
    "Xi_meanfield[:r, :r] = np.asarray([[0.01, -1, 0], [1, 0.01, 0], [0, 0, -1]]).T\n",
    "Xi_meanfield[r + 1, 0] = -1\n",
    "Xi_meanfield[r + 2, 1] = -1\n",
    "Xi_meanfield[r + 3, 2] = 1\n",
    "Xi_meanfield[r + 4, 2] = 1\n",
    "coef_pred = np.linalg.norm(Xi_meanfield - Xi) / np.linalg.norm(Xi_meanfield)\n",
    "print('Frobenius coefficient error = ', coef_pred)\n",
    "\n",
    "# Compute time-averaged dX/dt error\n",
    "deriv_error = np.zeros(xdot_test.shape[0])\n",
    "for i in range(xdot_test.shape[0]):\n",
    "    deriv_error[i] = np.dot(xdot_test[i, :] - xdot_test_pred[i, :], \n",
    "                            xdot_test[i, :] - xdot_test_pred[i, :])  / np.dot(\n",
    "                            xdot_test[i, :], xdot_test[i, :])\n",
    "print('Time-averaged derivative error = ', np.nanmean(deriv_error))"
   ]
  },
  {
   "cell_type": "markdown",
   "metadata": {},
   "source": [
    "This shows that local stability works pretty well on both modeling and sparse identification for systems with strict EPNs. Now let us examine this on a little more complex system with a deviation from $\\bm Q$ having zero totally symmetric part.\n",
    "\n",
    "# Atmospheric oscillator model\n",
    "$$\n",
    "\\begin{align}\n",
    "\n",
    "    \\frac{d}{dt}\\begin{bmatrix}\n",
    "    x \\\\ \n",
    "    y \\\\\n",
    "    z \\\\\n",
    "    \\end{bmatrix} = \\begin{bmatrix}\n",
    "    \\mu_1 & 0 & 0 \\\\\n",
    "    0 & \\mu_2 & \\omega \\\\\n",
    "    0 & -\\omega & \\mu_2 \n",
    "    \\end{bmatrix}\\begin{bmatrix} \n",
    "    x \\\\ \n",
    "    y \\\\\n",
    "    z \n",
    "    \\end{bmatrix}\n",
    "    +\n",
    "    \\begin{bmatrix}\n",
    "    \\sigma xy \\\\\n",
    "    \\kappa yz + \\beta z^2 - (\\sigma + \\epsilon) x^2 \\\\\n",
    "    - \\kappa y^2 - \\beta yz\n",
    "    \\end{bmatrix}.\n",
    "\\end{align}\n",
    "$$"
   ]
  },
  {
   "cell_type": "code",
   "execution_count": null,
   "metadata": {},
   "outputs": [],
   "source": [
    "# define parameters\n",
    "r = 3\n",
    "sigma = 1.1\n",
    "beta = -5.0\n",
    "eps = 0.01\n",
    "k1 = 5\n",
    "k2 = 1\n",
    "mu1 = eps * k1\n",
    "mu2 = -eps * k2\n",
    "alpha = -2.0\n",
    "omega = 3.0\n",
    "\n",
    "# Make training and testing data\n",
    "dt = 0.01\n",
    "T = 40\n",
    "t = np.arange(0, T + dt, dt)\n",
    "t_span = (t[0], t[-1])\n",
    "x0 = np.random.rand(3) - 0.5\n",
    "x_train = solve_ivp(oscillator, t_span, x0, t_eval=t, \n",
    "                    args=(mu1, mu2, omega, alpha, beta, sigma), \n",
    "                    **integrator_keywords).y.T\n",
    "x0 = np.random.rand(3) - 0.5\n",
    "x_test = solve_ivp(oscillator, t_span, x0, t_eval=t,\n",
    "                   args=(mu1, mu2, omega, alpha, beta, sigma), \n",
    "                   **integrator_keywords).y.T\n",
    "\n",
    "# define hyperparameters\n",
    "max_iter = 5000\n",
    "eta = 1.0e8\n",
    "alpha = 1e20\n",
    "beta = 1e-4\n",
    "threshold = 0.0\n",
    "alpha_m = 1e-1 * eta\n",
    "\n",
    "# run trapping SINDy, reusing previous threshold, max_iter and constraints\n",
    "sindy_opt = ps.TrappingSR3(\n",
    "    threshold=threshold, eta=eta,\n",
    "    gamma=-1,\n",
    "    # alpha_m=alpha_m,\n",
    "    alpha=alpha,\n",
    "    beta=beta,\n",
    "    max_iter=max_iter,\n",
    "    verbose=True,\n",
    "    )\n",
    "model = ps.SINDy(\n",
    "    optimizer=sindy_opt,\n",
    "    feature_library=sindy_library,\n",
    ")\n",
    "model.fit(x_train, t=t)\n",
    "model.print()\n",
    "Xi = model.coefficients().T\n",
    "xdot_test = model.differentiate(x_test, t=t)\n",
    "xdot_test_pred = model.predict(x_test)\n",
    "x_train_pred = model.simulate(x_train[0, :], t, integrator_kws=integrator_keywords)\n",
    "x_test_pred = model.simulate(x_test[0, :], t, integrator_kws=integrator_keywords)\n",
    "\n",
    "PL_tensor = sindy_opt.PL_\n",
    "PQ_tensor = sindy_opt.PQ_\n",
    "L = np.tensordot(PL_tensor, Xi, axes=([3, 2], [0, 1]))\n",
    "Q = np.tensordot(PQ_tensor, Xi, axes=([4, 3], [0, 1]))\n",
    "Q_sum = np.max(np.abs((Q + np.transpose(Q, [1, 2, 0]) + np.transpose(Q, [2, 0, 1]))))\n",
    "print('Max deviation from the constraints = ', Q_sum)\n",
    "\n",
    "# plotting and analysis\n",
    "make_fits(r, t, xdot_test, xdot_test_pred, x_test, x_test_pred, 'oscillator')\n",
    "make_lissajou(r, x_train, x_test, x_train_pred, x_test_pred, 'oscillator')\n",
    "E_pred = np.linalg.norm(x_test - x_test_pred) / np.linalg.norm(x_test)\n",
    "print('Frobenius error = ', E_pred)\n",
    "mean_val = np.mean(x_test_pred, axis=0)\n",
    "mean_val = np.sqrt(np.sum(mean_val ** 2))\n",
    "check_local_stability(r, Xi, sindy_opt, mean_val)\n",
    "\n",
    "# compute relative Frobenius error in the model coefficients\n",
    "Xi_oscillator = np.zeros(Xi.shape)\n",
    "Xi_oscillator[:r, :r] = np.asarray([[0.05, 0, 0], \n",
    "                                    [0, -0.01, 3.0], \n",
    "                                    [0, -3.0, -0.01]]).T\n",
    "Xi_oscillator[r, 0] = 1.1\n",
    "Xi_oscillator[r + 2, 1] = -2\n",
    "Xi_oscillator[r + 3, 1] = -1.1 - 1e-3\n",
    "Xi_oscillator[r + 5, 1] = -5\n",
    "Xi_oscillator[r + 2, 2] = 5\n",
    "Xi_oscillator[r + 4, 2] = 2\n",
    "coef_pred = np.linalg.norm(Xi_oscillator - Xi) / np.linalg.norm(Xi_oscillator)\n",
    "print('Frobenius coefficient error = ', coef_pred)\n",
    "\n",
    "# Compute time-averaged dX/dt error\n",
    "deriv_error = np.zeros(xdot_test.shape[0])\n",
    "for i in range(xdot_test.shape[0]):\n",
    "    deriv_error[i] = np.dot(xdot_test[i, :] - xdot_test_pred[i, :], \n",
    "                            xdot_test[i, :] - xdot_test_pred[i, :])  / np.dot(\n",
    "                            xdot_test[i, :], xdot_test[i, :])\n",
    "print('Time-averaged derivative error = ', np.nanmean(deriv_error))"
   ]
  },
  {
   "cell_type": "markdown",
   "metadata": {},
   "source": [
    "# Lorenz\n",
    "\n",
    "The algorithm works pretty well on nonchaotic systems in general, but what about chaotic systems?\n",
    "\n",
    "$$\n",
    "\\begin{align}\n",
    "    \\frac{d}{dt}\\begin{bmatrix}\n",
    "    x \\\\ \n",
    "    y \\\\\n",
    "    z \\\\\n",
    "    \\end{bmatrix} &= \\begin{bmatrix}\n",
    "    -\\sigma & \\sigma & 0 \\\\\n",
    "    \\rho & -1 & 0 \\\\\n",
    "    0 & 0 & -\\beta\n",
    "    \\end{bmatrix}\n",
    "    \\begin{bmatrix}\n",
    "    x \\\\\n",
    "    y \\\\\n",
    "    z\n",
    "    \\end{bmatrix}\n",
    "    +\n",
    "    \\begin{bmatrix}\n",
    "    0 \\\\\n",
    "    -xz \\\\\n",
    "    xy\n",
    "    \\end{bmatrix}, \\qquad\n",
    "    \\mathbf{A}^S = \\begin{bmatrix}\n",
    "    -\\sigma & \\frac{1}{2}(\\rho+\\sigma - m_3) & \\frac{1}{2}m_2 \\\\\n",
    "    \\frac{1}{2}(\\rho+\\sigma - m_3) & -1 & 0 \\\\\n",
    "    \\frac{1}{2}m_2 & 0 & -\\beta \n",
    "    \\end{bmatrix}.\n",
    "\\end{align}\n",
    "$$\n",
    "\n",
    "For Lorenz's choice of parameters, $\\sigma = 10$, $\\rho = 28$, $\\beta  = 8/3$, this system is known to exhibit a stable attractor. For $\\mathbf{m} = [0,m_2,\\rho+\\sigma]$ ($m_1$ does not contribute to $\\mathbf{A}^S$ so we set it to zero),\n",
    "\n",
    "$$\n",
    "\\begin{align}\n",
    "    \\mathbf{A}^S &= \\begin{bmatrix}\n",
    "    -\\sigma & 0 & \\frac{1}{2}m_2 \\\\\n",
    "    0 & -1 & 0 \\\\\n",
    "    \\frac{1}{2}m_2 & 0 & -\\beta \n",
    "    \\end{bmatrix}, \\qquad\n",
    "    \\lambda_1 = -1, \\qquad \\lambda_{\\pm} = -\\frac{1}{2}\\left[\\beta+\\sigma \\mp \\sqrt{m_2^2 + (\\beta-\\sigma)^2}\\right],\n",
    "\\end{align}\n",
    "$$\n",
    "\n",
    "so that if $\\lambda_{\\pm} < 0$, then $-2\\sqrt{\\sigma\\beta} < m_2 < 2\\sqrt{\\sigma\\beta}$. \n",
    "Our algorithm can successfully identify the optimal $\\mathbf{m}$, and can be used to identify the inequality bounds on $m_2$ for stability."
   ]
  },
  {
   "cell_type": "code",
   "execution_count": null,
   "metadata": {},
   "outputs": [],
   "source": [
    "# define parameters\n",
    "r = 3\n",
    "N = int((r ** 2 + 3 * r) / 2.0) + 1\n",
    "\n",
    "# make training and testing data\n",
    "dt = 0.01\n",
    "T = 40\n",
    "t = np.arange(0, T + dt, dt)\n",
    "t_span = (t[0], t[-1])\n",
    "x0 = [1, -1, 20]\n",
    "x_train = solve_ivp(lorenz, t_span, x0, t_eval=t, **integrator_keywords).y.T\n",
    "x0 = (np.random.rand(3) - 0.5) * 30\n",
    "x_test = solve_ivp(lorenz, t_span, x0, t_eval=t, **integrator_keywords).y.T\n",
    "\n",
    "max_iter = 20000\n",
    "eta = 1.0e5\n",
    "alpha = 1e20\n",
    "beta = 1e-8\n",
    "threshold = 0.0\n",
    "alpha_m = 2e-1 * eta\n",
    "\n",
    "# run trapping SINDy... no more constraints!\n",
    "sindy_opt = ps.TrappingSR3(\n",
    "    threshold=threshold, eta=eta,\n",
    "    gamma=-1,\n",
    "    # alpha_m=alpha_m,\n",
    "    alpha=alpha,\n",
    "    beta=beta,\n",
    "    max_iter=max_iter,\n",
    "    verbose=True,\n",
    ")\n",
    "model = ps.SINDy(\n",
    "    optimizer=sindy_opt,\n",
    "    feature_library=sindy_library,\n",
    ")\n",
    "model.fit(x_train, t=t)\n",
    "model.print()\n",
    "Xi = model.coefficients().T\n",
    "xdot_test = model.differentiate(x_test, t=t)\n",
    "xdot_test_pred = model.predict(x_test)\n",
    "x_train_pred = model.simulate(x_train[0, :], t, integrator_kws=integrator_keywords)\n",
    "x_test_pred = model.simulate(x_test[0, :], t, integrator_kws=integrator_keywords)\n",
    "\n",
    "PL_tensor = sindy_opt.PL_\n",
    "PQ_tensor = sindy_opt.PQ_\n",
    "mean_val = np.mean(x_test_pred, axis=0)\n",
    "mean_val = np.sqrt(np.sum(mean_val ** 2))\n",
    "check_local_stability(r, Xi, sindy_opt, mean_val)\n",
    "Q = np.tensordot(sindy_opt.PQ_, Xi, axes=([4, 3], [0, 1]))"
   ]
  },
  {
   "cell_type": "code",
   "execution_count": null,
   "metadata": {},
   "outputs": [],
   "source": [
    "# plotting and analysis\n",
    "make_fits(r, t, xdot_test, xdot_test_pred, x_test, x_test_pred, 'lorenz')"
   ]
  },
  {
   "cell_type": "markdown",
   "metadata": {},
   "source": [
    "Let us train again with $\\ell_1$ regularizer."
   ]
  },
  {
   "cell_type": "code",
   "execution_count": null,
   "metadata": {},
   "outputs": [],
   "source": [
    "max_iter = 2000\n",
    "eta = 1.0e3\n",
    "alpha = 1e20\n",
    "beta = 1e-8\n",
    "threshold = 1e4\n",
    "alpha_m = 2e-1 * eta\n",
    "\n",
    "# run trapping SINDy... no more constraints!\n",
    "sindy_opt = ps.TrappingSR3(\n",
    "    threshold=threshold, eta=eta,\n",
    "    gamma=-1,\n",
    "    alpha_m=alpha_m,\n",
    "    alpha=alpha,\n",
    "    beta=beta,\n",
    "    max_iter=max_iter,\n",
    "    verbose=True,\n",
    ")\n",
    "model = ps.SINDy(\n",
    "    optimizer=sindy_opt,\n",
    "    feature_library=sindy_library,\n",
    ")\n",
    "model.fit(x_train, t=t)\n",
    "model.print()\n",
    "Xi = model.coefficients().T\n",
    "PL_tensor = sindy_opt.PL_\n",
    "PQ_tensor = sindy_opt.PQ_\n",
    "Lenergy = np.tensordot(PL_tensor, Xi, axes=([3, 2], [0, 1]))\n",
    "Qenergy = np.tensordot(PQ_tensor, Xi, axes=([4, 3], [0, 1]))\n",
    "mean_val = np.mean(x_test_pred, axis=0)\n",
    "mean_val = np.sqrt(np.sum(mean_val ** 2))\n",
    "check_local_stability(r, Xi, sindy_opt, mean_val)\n",
    "Q = np.tensordot(sindy_opt.PQ_, Xi, axes=([4, 3], [0, 1]))"
   ]
  },
  {
   "cell_type": "code",
   "execution_count": null,
   "metadata": {},
   "outputs": [],
   "source": [
    "xdot_test = model.differentiate(x_test, t=t)\n",
    "xdot_test_pred = model.predict(x_test)\n",
    "x_train_pred = model.simulate(x_train[0, :], t, integrator_kws=integrator_keywords)\n",
    "x_test_pred = model.simulate(x_test[0, :], t, integrator_kws=integrator_keywords)\n",
    "\n",
    "fig = plt.figure(figsize=(10, 6))\n",
    "ax1 = fig.add_subplot(121, projection='3d')\n",
    "ax1.plot(x_train[:, 0], x_train[:, 1], x_train[:, 2], 'r-')\n",
    "ax1.plot(x_train_pred[:, 0], x_train_pred[:, 1], x_train_pred[:, 2], 'k-')\n",
    "ax1.set(xlabel='$x_0$', ylabel='$x_1$',\n",
    "        zlabel='$x_2$', title='model simulation')\n",
    "\n",
    "ax2 = fig.add_subplot(122, projection='3d')\n",
    "ax2.plot(x_test[:, 0], x_test[:, 1], x_test[:, 2], 'b')\n",
    "ax2.plot(x_test_pred[:, 0], x_test_pred[:, 1], x_test_pred[:, 2], 'k--')\n",
    "ax2.set(xlabel='$x_0$', ylabel='$x_1$',\n",
    "        zlabel='$x_2$', title='true simulation + prediction')\n",
    "fig.show()"
   ]
  },
  {
   "cell_type": "markdown",
   "metadata": {},
   "source": [
    "Now let's do a sweep."
   ]
  },
  {
   "cell_type": "code",
   "execution_count": null,
   "metadata": {},
   "outputs": [],
   "source": [
    "thresholds = np.array([0, 10, 100, 1e3, 1e4, 1e5])\n",
    "deviation = np.zeros(np.size(thresholds))\n",
    "pred_loss = np.zeros(np.size(thresholds))\n",
    "coef_error = np.zeros(np.size(thresholds))\n",
    "r_ls = np.zeros(np.size(thresholds))\n",
    "l0 = np.zeros(np.size(thresholds))\n",
    "\n",
    "sigma = 10\n",
    "rho = 28\n",
    "beta = 8.0 / 3.0\n",
    "Xi_lorenz = np.zeros(Xi.shape)\n",
    "Xi_lorenz[:r, :r] = np.asarray([[-sigma, sigma, 0], [rho, -1, 0], [0, 0, -beta]]).T\n",
    "Xi_lorenz[r + 1, 1] = -1\n",
    "Xi_lorenz[r, 2] = 1\n",
    "\n",
    "for i in range(len(thresholds)):\n",
    "\n",
    "    max_iter = 2000\n",
    "    eta = 1.0e5\n",
    "    alpha = 1e20\n",
    "    beta = 1e-8\n",
    "    threshold = 0.1\n",
    "    alpha_m = 2e-1 * eta\n",
    "\n",
    "    if thresholds[i] == 0:\n",
    "        max_iter = 20000\n",
    "\n",
    "    # run trapping SINDy... no more constraints!\n",
    "    sindy_opt = ps.TrappingSR3(\n",
    "        threshold=thresholds[i], eta=eta,\n",
    "        gamma=-1,\n",
    "        alpha_m=alpha_m,\n",
    "        alpha=alpha,\n",
    "        beta=beta,\n",
    "        max_iter=max_iter,\n",
    "        verbose=False,\n",
    "    )\n",
    "    model = ps.SINDy(\n",
    "        optimizer=sindy_opt,\n",
    "        feature_library=sindy_library,\n",
    "    )\n",
    "    model.fit(x_train, t=t)\n",
    "    model.print()\n",
    "    Xi = model.coefficients().T\n",
    "    x_test_pred = model.simulate(x_test[0, :], t, integrator_kws=integrator_keywords)\n",
    "\n",
    "    PL_tensor = sindy_opt.PL_\n",
    "    PQ_tensor = sindy_opt.PQ_\n",
    "    mean_val = np.mean(x_test_pred, axis=0)\n",
    "    mean_val = np.sqrt(np.sum(mean_val ** 2))\n",
    "    rm, r_ls[i] = check_local_stability(r, Xi, sindy_opt, mean_val)\n",
    "    Q = np.tensordot(sindy_opt.PQ_, Xi, axes=([4, 3], [0, 1]))\n",
    "    Q_sum = np.max(np.abs((Q + np.transpose(Q, [1, 2, 0]) + np.transpose(Q, [2, 0, 1]))))\n",
    "    deviation[i] = np.max(np.abs(Q_sum))\n",
    "    coef_error[i] = np.linalg.norm(Xi_lorenz - Xi) / np.linalg.norm(Xi_lorenz)\n",
    "    pred_loss[i] = np.linalg.norm(x_test - x_test_pred) / np.linalg.norm(x_test)\n",
    "    nonzero_ind = np.abs(Xi) >= 1e-3\n",
    "    nonzeros = np.zeros(np.shape(Xi))\n",
    "    nonzeros[nonzero_ind] = 1\n",
    "    l0[i] = np.count_nonzero(nonzeros)"
   ]
  },
  {
   "cell_type": "markdown",
   "metadata": {},
   "source": [
    "Now draw these results!"
   ]
  },
  {
   "cell_type": "code",
   "execution_count": null,
   "metadata": {},
   "outputs": [],
   "source": [
    "nonzero_ind = np.abs(Xi) >= 1e-3\n",
    "nonzeros = np.zeros(np.shape(Xi))\n",
    "nonzeros[nonzero_ind] = 1\n",
    "l0[5] = np.count_nonzero(nonzeros)\n",
    "\n",
    "fig1 = plt.figure(figsize=(8,4))\n",
    "plt.plot(thresholds, deviation, label=r\"$\\epsilon_Q$\", linewidth=3)\n",
    "plt.grid(True)\n",
    "plt.xlabel(\"threshold value\")\n",
    "plt.legend(framealpha=1.0)\n",
    "plt.xscale(\"log\")\n",
    "\n",
    "fig2 = plt.figure(figsize=(8,4))\n",
    "plt.plot(thresholds, pred_loss, label=r\"prediction loss\", linewidth=3)\n",
    "plt.plot(thresholds, coef_error, label=r\"coefficients error\", linewidth=3)\n",
    "plt.grid(True)\n",
    "plt.xlabel(\"threshold value\")\n",
    "plt.legend(framealpha=1.0)\n",
    "plt.xscale(\"log\")\n",
    "\n",
    "fig3 = plt.figure(figsize=(8,4))\n",
    "plt.plot(thresholds, r_ls, label=r\"local stability radius\", linewidth=3)\n",
    "plt.grid(True)\n",
    "plt.xlabel(\"threshold value\")\n",
    "plt.legend(framealpha=1.0)\n",
    "plt.xscale(\"log\")\n",
    "\n",
    "fig4 = plt.figure(figsize=(8,4))\n",
    "plt.plot(thresholds, l0, label=r\"$\\ell_0$ norm of coefficients\", linewidth=3)\n",
    "\n",
    "plt.grid(True)\n",
    "plt.xlabel(\"threshold value\")\n",
    "plt.legend(framealpha=1.0)\n",
    "plt.xscale(\"log\")"
   ]
  },
  {
   "cell_type": "code",
   "execution_count": null,
   "metadata": {},
   "outputs": [],
   "source": [
    "thresholds = np.arange(10, 460, 50)\n",
    "deviation = np.zeros(np.size(thresholds))\n",
    "pred_loss = np.zeros(np.size(thresholds))\n",
    "coef_error = np.zeros(np.size(thresholds))\n",
    "r_ls = np.zeros(np.size(thresholds))\n",
    "l0 = np.zeros(np.size(thresholds))\n",
    "\n",
    "sigma = 10\n",
    "rho = 28\n",
    "beta = 8.0 / 3.0\n",
    "Xi_lorenz = np.zeros(Xi.shape)\n",
    "Xi_lorenz[:r, :r] = np.asarray([[-sigma, sigma, 0], [rho, -1, 0], [0, 0, -beta]]).T\n",
    "Xi_lorenz[r + 1, 1] = -1\n",
    "Xi_lorenz[r, 2] = 1\n",
    "\n",
    "for i in range(len(thresholds)):\n",
    "\n",
    "    max_iter = 2000\n",
    "    eta = 1.0e5\n",
    "    alpha = 1e20\n",
    "    beta = 1e-8\n",
    "    threshold = 0.1\n",
    "    alpha_m = 2e-1 * eta\n",
    "\n",
    "    if thresholds[i] == 0:\n",
    "        max_iter = 20000\n",
    "\n",
    "    # run trapping SINDy... no more constraints!\n",
    "    sindy_opt = ps.TrappingSR3(\n",
    "        threshold=thresholds[i], eta=eta,\n",
    "        gamma=-1,\n",
    "        alpha_m=alpha_m,\n",
    "        alpha=alpha,\n",
    "        beta=beta,\n",
    "        max_iter=max_iter,\n",
    "        verbose=False,\n",
    "    )\n",
    "    model = ps.SINDy(\n",
    "        optimizer=sindy_opt,\n",
    "        feature_library=sindy_library,\n",
    "    )\n",
    "    model.fit(x_train, t=t)\n",
    "    model.print()\n",
    "    Xi = model.coefficients().T\n",
    "    x_test_pred = model.simulate(x_test[0, :], t, integrator_kws=integrator_keywords)\n",
    "\n",
    "    PL_tensor = sindy_opt.PL_\n",
    "    PQ_tensor = sindy_opt.PQ_\n",
    "    mean_val = np.mean(x_test_pred, axis=0)\n",
    "    mean_val = np.sqrt(np.sum(mean_val ** 2))\n",
    "    rm, r_ls[i] = check_local_stability(r, Xi, sindy_opt, mean_val)\n",
    "    Q = np.tensordot(sindy_opt.PQ_, Xi, axes=([4, 3], [0, 1]))\n",
    "    Q_sum = np.max(np.abs((Q + np.transpose(Q, [1, 2, 0]) + np.transpose(Q, [2, 0, 1]))))\n",
    "    deviation[i] = np.max(np.abs(Q_sum))\n",
    "    coef_error[i] = np.linalg.norm(Xi_lorenz - Xi) / np.linalg.norm(Xi_lorenz)\n",
    "    pred_loss[i] = np.linalg.norm(x_test - x_test_pred) / np.linalg.norm(x_test)\n",
    "    nonzero_ind = np.abs(Xi) >= 1e-3\n",
    "    nonzeros = np.zeros(np.shape(Xi))\n",
    "    nonzeros[nonzero_ind] = 1\n",
    "    l0[i] = np.count_nonzero(nonzeros)"
   ]
  },
  {
   "cell_type": "code",
   "execution_count": null,
   "metadata": {},
   "outputs": [],
   "source": [
    "nonzero_ind = np.abs(Xi) >= 1e-3\n",
    "nonzeros = np.zeros(np.shape(Xi))\n",
    "nonzeros[nonzero_ind] = 1\n",
    "l0[5] = np.count_nonzero(nonzeros)\n",
    "\n",
    "fig1 = plt.figure(figsize=(8,4))\n",
    "plt.plot(thresholds, deviation, label=r\"$\\epsilon_Q$\", linewidth=3)\n",
    "plt.grid(True)\n",
    "plt.xlabel(\"threshold value\")\n",
    "plt.legend(framealpha=1.0)\n",
    "plt.xscale(\"log\")\n",
    "\n",
    "fig2 = plt.figure(figsize=(8,4))\n",
    "plt.plot(thresholds, pred_loss, label=r\"prediction loss\", linewidth=3)\n",
    "plt.plot(thresholds, coef_error, label=r\"coefficients error\", linewidth=3)\n",
    "plt.grid(True)\n",
    "plt.xlabel(\"threshold value\")\n",
    "plt.legend(framealpha=1.0)\n",
    "plt.xscale(\"log\")\n",
    "\n",
    "fig3 = plt.figure(figsize=(8,4))\n",
    "plt.plot(thresholds, r_ls, label=r\"local stability radius\", linewidth=3)\n",
    "plt.grid(True)\n",
    "plt.xlabel(\"threshold value\")\n",
    "plt.legend(framealpha=1.0)\n",
    "plt.xscale(\"log\")\n",
    "\n",
    "fig4 = plt.figure(figsize=(8,4))\n",
    "plt.plot(thresholds, l0, label=r\"$\\ell_0$ norm of coefficients\", linewidth=3)\n",
    "\n",
    "plt.grid(True)\n",
    "plt.xlabel(\"threshold value\")\n",
    "plt.legend(framealpha=1.0)\n",
    "plt.xscale(\"log\")"
   ]
  },
  {
   "cell_type": "markdown",
   "metadata": {},
   "source": [
    "## We also want to introduce the ZSINDy method to build in sparsity to the trapping models.\n",
    "\n",
    "ZSindy is a recent strategy to directly construct sparse dynamical models without applying the traditional sparse regularization. Based on Bayesian inference, ZSindy leverages sparse priors and the fact that for most physical systems, only a few relative terms determine the dynamics so to combine SINDy with Bayesian approach to achieve the parsimonious representation of dynamical systems.\n",
    "\n",
    "An early-stage work at present is to compute the free energy of each trapping model."
   ]
  },
  {
   "cell_type": "code",
   "execution_count": null,
   "metadata": {},
   "outputs": [
    {
     "ename": "",
     "evalue": "",
     "output_type": "error",
     "traceback": [
      "\u001b[1;31mRunning cells with '.venv (Python 3.12.3)' requires the ipykernel package.\n",
      "\u001b[1;31mRun the following command to install 'ipykernel' into the Python environment. \n",
      "\u001b[1;31mCommand: '/home/mai/CodeWork/pysindy/.venv/bin/python -m pip install ipykernel -U --force-reinstall'"
     ]
    }
   ],
   "source": [
    "# some useful tools\n",
    "# from z_utils import *\n",
    "\n",
    "from itertools import combinations\n",
    "import numpy as np"
   ]
  },
  {
   "cell_type": "markdown",
   "metadata": {},
   "source": [
    "### Compute the free energy for trapping SINDy model of Lorenz 1963."
   ]
  },
  {
   "cell_type": "code",
   "execution_count": 6,
   "metadata": {},
   "outputs": [
    {
     "name": "stdout",
     "output_type": "stream",
     "text": [
      " Iter ... |y-Xw|^2 ... |Pw-A|^2/eta ... |w|_1 ... |Qijk|/a ... |Qijk+...|/b ...   Total:\n",
      "    0 ... 2.477e+02 ... 1.273e-01 ... 0.00e+00 ... 4.93e-21 ... 1.35e-02 ... 2.48e+02\n",
      "  500 ... 2.477e+02 ... 1.986e-06 ... 0.00e+00 ... 4.93e-21 ... 1.35e-02 ... 2.48e+02\n",
      " 1000 ... 2.477e+02 ... 6.548e-07 ... 0.00e+00 ... 4.93e-21 ... 1.35e-02 ... 2.48e+02\n",
      " 1500 ... 2.477e+02 ... 3.914e-07 ... 0.00e+00 ... 4.93e-21 ... 1.35e-02 ... 2.48e+02\n",
      " 2000 ... 2.477e+02 ... 2.929e-07 ... 0.00e+00 ... 4.93e-21 ... 1.35e-02 ... 2.48e+02\n",
      " 2500 ... 2.477e+02 ... 2.453e-07 ... 0.00e+00 ... 4.93e-21 ... 1.35e-02 ... 2.48e+02\n",
      " 3000 ... 2.477e+02 ... 2.190e-07 ... 0.00e+00 ... 4.93e-21 ... 1.35e-02 ... 2.48e+02\n",
      " 3500 ... 2.477e+02 ... 2.034e-07 ... 0.00e+00 ... 4.93e-21 ... 1.35e-02 ... 2.48e+02\n",
      " 4000 ... 2.477e+02 ... 1.936e-07 ... 0.00e+00 ... 4.93e-21 ... 1.35e-02 ... 2.48e+02\n",
      " 4500 ... 2.477e+02 ... 1.872e-07 ... 0.00e+00 ... 4.93e-21 ... 1.35e-02 ... 2.48e+02\n",
      "(x0)' = 0.086 1 + -9.861 x0 + 9.935 x1 + -0.013 x2 + -0.001 x0 x1 + -0.003 x0 x2 + 0.001 x1^2 + 0.001 x1 x2\n",
      "(x1)' = -0.276 1 + 27.751 x0 + -0.912 x1 + 0.033 x2 + 0.001 x0^2 + -0.001 x0 x1 + -0.993 x0 x2 + -0.002 x1 x2 + -0.001 x2^2\n",
      "(x2)' = 0.088 1 + 0.003 x0 + -0.012 x1 + -2.664 x2 + 0.003 x0^2 + 0.992 x0 x1 + 0.002 x1^2 + 0.001 x1 x2\n"
     ]
    }
   ],
   "source": [
    "# define parameters\n",
    "r = 3\n",
    "N = int((r**2 + 3 * r) / 2.0) + 1\n",
    "\n",
    "# make training and testing data\n",
    "dt = 0.01\n",
    "T = 40\n",
    "t = np.arange(0, T + dt, dt)\n",
    "t_span = (t[0], t[-1])\n",
    "x0 = [1, -1, 20]\n",
    "x_train = solve_ivp(lorenz, t_span, x0, t_eval=t, **integrator_keywords).y.T\n",
    "x0 = (np.random.rand(3) - 0.5) * 30\n",
    "x_test = solve_ivp(lorenz, t_span, x0, t_eval=t, **integrator_keywords).y.T\n",
    "max_iter = 5000\n",
    "eta = 1.0e3\n",
    "alpha = 1e20\n",
    "beta = 1e-10\n",
    "reg_weight_lam = 0\n",
    "alpha_m = 0.9 * eta\n",
    "\n",
    "# run trapping SINDy... no more constraints!\n",
    "sindy_opt = ps.TrappingSR3(\n",
    "    method=\"local\",\n",
    "    _n_tgts=3,\n",
    "    _include_bias=True,\n",
    "    reg_weight_lam=reg_weight_lam,\n",
    "    eta=eta,\n",
    "    alpha_m=alpha_m,\n",
    "    max_iter=max_iter,\n",
    "    gamma=-1,\n",
    "    alpha=alpha,\n",
    "    beta=beta,\n",
    "    verbose=True,\n",
    ")\n",
    "model = ps.SINDy(\n",
    "    optimizer=sindy_opt,\n",
    "    feature_library=sindy_library,\n",
    ")\n",
    "model.fit(x_train, t=t)\n",
    "model.print()\n",
    "Xi = model.coefficients().T\n",
    "# xdot_test = model.differentiate(x_test, t=t)\n",
    "# xdot_test_pred = model.predict(x_test)\n",
    "# x_train_pred = model.simulate(x_train[0, :], t, integrator_kws=integrator_keywords)\n",
    "# x_test_pred = model.simulate(x_test[0, :], t, integrator_kws=integrator_keywords)\n",
    "\n",
    "Theta = model.feature_library.transform(x_train)\n",
    "xdot = model.differentiate(x_train, t=t)"
   ]
  },
  {
   "cell_type": "code",
   "execution_count": 7,
   "metadata": {},
   "outputs": [],
   "source": [
    "def free_energy_coefs(C, V, rho, num_terms, num_feats, dim):\n",
    "    \"\"\"\n",
    "    Calculate the free energy coefficients for a given set of inputs.\n",
    "\n",
    "    Parameters:\n",
    "    - C (numpy.ndarray): Covariance matrix.\n",
    "    - V (numpy.ndarray): Data matrix.\n",
    "    - rho (float): The resolution parameter.\n",
    "    - num_terms (int): The number of terms.\n",
    "    - num_feats (int): The number of features.\n",
    "    - dim (int): The variable index to consider.\n",
    "\n",
    "    Returns:\n",
    "    - gammas (dict): A dictionary containing the index combinations.\n",
    "    - Fs (dict): A dictionary containing the free energy values for each index combination.\n",
    "    - mean_coefs (dict): A dictionary containing the mean coefficients for each index combination.\n",
    "    \"\"\"\n",
    "    gammas = get_idx_combinations(num_feats, num_terms)\n",
    "    Fs = {key: None for key in gammas}\n",
    "    mean_coefs = {key: None for key in gammas}\n",
    "    for i, gamma in enumerate(gammas):\n",
    "        lgamma = list(gamma)\n",
    "        Fs[gamma] = free_energy(C, V[:, dim], rho, lgamma)\n",
    "        mean_coefs[gamma] = sum(np.linalg.inv(C[lgamma][:, lgamma]) * V[lgamma, dim])\n",
    "\n",
    "    return gammas, Fs, mean_coefs\n",
    "\n",
    "\n",
    "def get_idx_combinations(list_len, num_terms):\n",
    "    \"\"\"\n",
    "    Returns all possible combinations of length num_terms from a list of length list_len\n",
    "    \"\"\"\n",
    "    return [i for i in combinations(range(list_len), num_terms)]\n",
    "\n",
    "def free_energy(C, V, rho, gamma):\n",
    "    \"\"\"\n",
    "    Calculate the free energy.\n",
    "\n",
    "    Parameters:\n",
    "    - C (numpy.ndarray): Covariance matrix.\n",
    "    - V (numpy.ndarray): Data matrix.\n",
    "    - rho (float): Resolution (distribution standard deviation) parameter.\n",
    "    - gamma (list): List of indices of library terms to be included.\n",
    "\n",
    "    Returns:\n",
    "    - float: The calculated free energy.\n",
    "    \"\"\"\n",
    "    subC = C[gamma][:, gamma]\n",
    "    subV = V[gamma].reshape(-1,1)\n",
    "\n",
    "    tempF = (\n",
    "        -len(gamma) * 0.5 * np.log(2 * np.pi * rho**2)\n",
    "        + 0.5 * np.linalg.slogdet(subC)[1]\n",
    "        - 0.5 / rho**2 * (subV.T @ np.linalg.inv(subC) @ subV)\n",
    "    )\n",
    "    return tempF"
   ]
  },
  {
   "cell_type": "code",
   "execution_count": 62,
   "metadata": {},
   "outputs": [
    {
     "name": "stdout",
     "output_type": "stream",
     "text": [
      "(10, 3)\n",
      "We have 10 features\n",
      "['1', 'x0', 'x1', 'x2', 'x0^2', 'x0x1', 'x0x2', 'x1^2', 'x1x2', 'x2^2']\n"
     ]
    }
   ],
   "source": [
    "# print(\"Xi = \", Xi)\n",
    "C = Theta.T @ Theta\n",
    "V = Theta.T @ xdot\n",
    "print(V.shape)\n",
    "\n",
    "num_feats = Theta.shape[1]\n",
    "print(\"We have {} features\".format(num_feats))\n",
    "feat_names = sindy_library.get_feature_names()\n",
    "temp_name = []\n",
    "for a in feat_names:\n",
    "    temp_name.append(''.join(a.split()))\n",
    "feat_names = temp_name\n",
    "print(list(feat_names))\n",
    "gammas_3, Fs_3, mean_coefs_3 = free_energy_coefs(C, V, .1, 3, num_feats, 0)"
   ]
  },
  {
   "cell_type": "markdown",
   "metadata": {},
   "source": [
    "Now plot these free energies vs. coefficients combinations."
   ]
  },
  {
   "cell_type": "code",
   "execution_count": 69,
   "metadata": {},
   "outputs": [
    {
     "name": "stdout",
     "output_type": "stream",
     "text": [
      "(AxesArray([[-3.57995035e+08]]), AxesArray([[-1742501.37974755]]), AxesArray([[-42479.37757098]]), AxesArray([[-792231.83031425]]), AxesArray([[-1.95725283e+08]]), AxesArray([[-2491176.0132346]]), AxesArray([[-2.06194825e+08]]), AxesArray([[-2255856.15872793]]), AxesArray([[-96711135.15979092]]), AxesArray([[-91904227.21081255]]), AxesArray([[-91215305.56117329]]), AxesArray([[-3.3830753e+08]]), AxesArray([[-92281702.53999224]]), AxesArray([[-1.53077486e+08]]), AxesArray([[-95506378.19194049]]), AxesArray([[-2908872.66952701]]), AxesArray([[-3249642.12806471]]), AxesArray([[-14095649.43452179]]), AxesArray([[-4457680.89372402]]), AxesArray([[-46282716.19556722]]), AxesArray([[-3029041.58211782]]), AxesArray([[-2840723.12619734]]), AxesArray([[-13886375.66044367]]), AxesArray([[-4799587.53755954]]), AxesArray([[-42208564.47709449]]), AxesArray([[-4198078.86165977]]), AxesArray([[-15111972.67498654]]), AxesArray([[-6590353.91081965]]), AxesArray([[-41726098.13537432]]), AxesArray([[-3919654.02074918]]), AxesArray([[-16297674.15590134]]), AxesArray([[-3.31850711e+08]]), AxesArray([[-14661453.6618644]]), AxesArray([[-43064486.41848733]]), AxesArray([[-4958079.69218583]]), AxesArray([[-46035130.99092959]]), AxesArray([[-3.57995032e+08]]), AxesArray([[-3.5799503e+08]]), AxesArray([[-3.57995037e+08]]), AxesArray([[-3.57995031e+08]]), AxesArray([[-3.57995042e+08]]), AxesArray([[-3.57995273e+08]]), AxesArray([[-3.57995029e+08]]), AxesArray([[-829107.20798346]]), AxesArray([[-2039134.5130646]]), AxesArray([[-1.96566979e+08]]), AxesArray([[-3871930.78611851]]), AxesArray([[-2.06205479e+08]]), AxesArray([[-2681440.90766835]]), AxesArray([[-2835366.84739686]]), AxesArray([[-1.92451211e+08]]), AxesArray([[-4702913.93827803]]), AxesArray([[-2.06421066e+08]]), AxesArray([[-2798024.71828886]]), AxesArray([[-1.91804622e+08]]), AxesArray([[-6302485.8360161]]), AxesArray([[-2.06186202e+08]]), AxesArray([[-3343091.33826106]]), AxesArray([[-1.91644802e+08]]), AxesArray([[-3.43498197e+08]]), AxesArray([[-1.95780479e+08]]), AxesArray([[-2.06190504e+08]]), AxesArray([[-4839357.85706159]]), AxesArray([[-2.06511773e+08]]), AxesArray([[-95854242.04096542]]), AxesArray([[-96003342.20705345]]), AxesArray([[-3.38401824e+08]]), AxesArray([[-97594628.21132779]]), AxesArray([[-1.55526223e+08]]), AxesArray([[-95840430.20936838]]), AxesArray([[-89759171.85778968]]), AxesArray([[-3.37390511e+08]]), AxesArray([[-92347356.64989077]]), AxesArray([[-1.49227125e+08]]), AxesArray([[-96116923.2336379]]), AxesArray([[-3.37241881e+08]]), AxesArray([[-97082238.45889097]]), AxesArray([[-1.47742793e+08]]), AxesArray([[-95675356.5625665]]), AxesArray([[-3.37122779e+08]]), AxesArray([[-3.51941788e+08]]), AxesArray([[-3.3804633e+08]]), AxesArray([[-1.46459557e+08]]), AxesArray([[-96559869.3563359]]), AxesArray([[-1.54347e+08]]), AxesArray([[-2930345.65992377]]), AxesArray([[-13585303.75502547]]), AxesArray([[-4845003.24478296]]), AxesArray([[-45026238.88968862]]), AxesArray([[-4896715.75375129]]), AxesArray([[-15152295.34666208]]), AxesArray([[-6596263.53982027]]), AxesArray([[-45481895.30422517]]), AxesArray([[-4276550.88877768]]), AxesArray([[-16442486.30886294]]), AxesArray([[-3.31958162e+08]]), AxesArray([[-15947419.56019922]]), AxesArray([[-47228471.86777633]]), AxesArray([[-5173873.01522781]]), AxesArray([[-45957057.66917127]]), AxesArray([[-16187978.44977188]]), AxesArray([[-6159702.88872634]]), AxesArray([[-42921422.74984678]]), AxesArray([[-3295618.92581708]]), AxesArray([[-17220779.42626712]]), AxesArray([[-3.31890563e+08]]), AxesArray([[-14536024.73504172]]), AxesArray([[-45393384.4546176]]), AxesArray([[-4973465.80687799]]), AxesArray([[-46747986.32174021]]), AxesArray([[-17672986.02006086]]), AxesArray([[-3.31562573e+08]]), AxesArray([[-15762941.39245813]]), AxesArray([[-48676349.1636133]]), AxesArray([[-6619494.272793]]), AxesArray([[-46551385.16272651]]), AxesArray([[-3.31534578e+08]]), AxesArray([[-16907167.89654344]]), AxesArray([[-3.32118381e+08]]), AxesArray([[-47735477.10098128]]))\n"
     ]
    },
    {
     "data": {
      "text/plain": [
       "<matplotlib.collections.PathCollection at 0x778a8e9d6aa0>"
      ]
     },
     "execution_count": 69,
     "metadata": {},
     "output_type": "execute_result"
    },
    {
     "data": {
      "image/png": "[encoded data removed]",
      "text/plain": [
       "<Figure size 640x480 with 1 Axes>"
      ]
     },
     "metadata": {},
     "output_type": "display_data"
    }
   ],
   "source": [
    "myList = sorted(Fs_3.items())\n",
    "x, y = zip(*myList)\n",
    "print(y)\n",
    "comb = []\n",
    "for i in range(len(x)):\n",
    "    a = list(x[i])\n",
    "    c_temp = []\n",
    "    for c in a:\n",
    "        c_temp.append(feat_names[c])\n",
    "    comb.append(' '.join(c_temp))\n",
    "plt.scatter(comb, np.array(y), color='blue', marker='o', label='Free Energies')"
   ]
  },
  {
   "cell_type": "markdown",
   "metadata": {},
   "source": [
    "We can print the lowest 5 combinations."
   ]
  },
  {
   "cell_type": "code",
   "execution_count": 70,
   "metadata": {},
   "outputs": [
    {
     "name": "stdout",
     "output_type": "stream",
     "text": [
      "[[-3.57995273e+08]]\n"
     ]
    },
    {
     "data": {
      "image/png": "[encoded data removed]",
      "text/plain": [
       "<Figure size 640x480 with 1 Axes>"
      ]
     },
     "metadata": {},
     "output_type": "display_data"
    }
   ],
   "source": [
    "lowest5 = np.argsort(np.array(y).reshape(-1))[:5]\n",
    "comb5 = []\n",
    "Fs5 = []\n",
    "for i in range(len(lowest5)):\n",
    "    comb5.append(comb[lowest5[i]])\n",
    "    Fs5.append(lowest5[i])\n",
    "\n",
    "plt.scatter(comb5, Fs5, color='blue', marker='o')\n",
    "print(y[lowest5[0]])"
   ]
  },
  {
   "cell_type": "markdown",
   "metadata": {},
   "source": [
    "Repeat again for the set of subsets of $P(\\Xi)$ containing 2 elements."
   ]
  },
  {
   "cell_type": "code",
   "execution_count": 65,
   "metadata": {},
   "outputs": [
    {
     "name": "stdout",
     "output_type": "stream",
     "text": [
      "((0, 1), (0, 2), (0, 3), (0, 4), (0, 5), (0, 6), (0, 7), (0, 8), (0, 9), (1, 2), (1, 3), (1, 4), (1, 5), (1, 6), (1, 7), (1, 8), (1, 9), (2, 3), (2, 4), (2, 5), (2, 6), (2, 7), (2, 8), (2, 9), (3, 4), (3, 5), (3, 6), (3, 7), (3, 8), (3, 9), (4, 5), (4, 6), (4, 7), (4, 8), (4, 9), (5, 6), (5, 7), (5, 8), (5, 9), (6, 7), (6, 8), (6, 9), (7, 8), (7, 9), (8, 9))\n"
     ]
    },
    {
     "data": {
      "text/plain": [
       "<matplotlib.collections.PathCollection at 0x778a8e9529b0>"
      ]
     },
     "execution_count": 65,
     "metadata": {},
     "output_type": "execute_result"
    },
    {
     "data": {
      "image/png": "[encoded data removed]",
      "text/plain": [
       "<Figure size 640x480 with 1 Axes>"
      ]
     },
     "metadata": {},
     "output_type": "display_data"
    }
   ],
   "source": [
    "gammas_2, Fs_2, mean_coefs_2 = free_energy_coefs(C, V, .1, 2, num_feats, 0)\n",
    "myList_2 = sorted(Fs_2.items())\n",
    "x_2, y_2 = zip(*myList_2)\n",
    "print(x_2)\n",
    "comb_2 = []\n",
    "for i in range(len(x_2)):\n",
    "    a = list(x_2[i])\n",
    "    c_temp = []\n",
    "    for c in a:\n",
    "        c_temp.append(feat_names[c])\n",
    "    comb_2.append(' '.join(c_temp))\n",
    "plt.scatter(comb_2, np.array(y_2), color='blue', marker='o', label='Free Energies')"
   ]
  },
  {
   "cell_type": "code",
   "execution_count": 66,
   "metadata": {},
   "outputs": [
    {
     "name": "stdout",
     "output_type": "stream",
     "text": [
      "[[-3.5799504e+08]]\n"
     ]
    },
    {
     "data": {
      "image/png": "[encoded data removed]",
      "text/plain": [
       "<Figure size 640x480 with 1 Axes>"
      ]
     },
     "metadata": {},
     "output_type": "display_data"
    }
   ],
   "source": [
    "lowest5_2 = np.argsort(np.array(y_2).reshape(-1))[:5]\n",
    "comb5_2 = []\n",
    "Fs5_2 = []\n",
    "for i in range(len(lowest5_2)):\n",
    "    comb5_2.append(comb_2[lowest5_2[i]])\n",
    "    Fs5_2.append(lowest5_2[i])\n",
    "\n",
    "plt.scatter(comb5_2, Fs5_2, color='blue', marker='o')\n",
    "print(y_2[lowest5_2[0]])"
   ]
  },
  {
   "cell_type": "markdown",
   "metadata": {},
   "source": [
    "Consider all features?"
   ]
  },
  {
   "cell_type": "code",
   "execution_count": 68,
   "metadata": {},
   "outputs": [
    {
     "name": "stdout",
     "output_type": "stream",
     "text": [
      "((0, 1, 2, 3, 4, 5, 6, 7, 8, 9),)\n",
      "(AxesArray([[-3.579964e+08]]),)\n"
     ]
    },
    {
     "data": {
      "image/png": "[encoded data removed]",
      "text/plain": [
       "<Figure size 640x480 with 1 Axes>"
      ]
     },
     "metadata": {},
     "output_type": "display_data"
    }
   ],
   "source": [
    "gammas_all, Fs_all, mean_coefs_all = free_energy_coefs(C, V, .1, num_feats, num_feats, 0)\n",
    "myList_all = sorted(Fs_all.items())\n",
    "x_all, y_all = zip(*myList_all)\n",
    "print(x_all)\n",
    "comb_none = []\n",
    "for i in range(len(x_all)):\n",
    "    a = list(x_all[i])\n",
    "    c_temp = []\n",
    "    for c in a:\n",
    "        c_temp.append(feat_names[c])\n",
    "    comb_none.append(' '.join(c_temp))\n",
    "plt.scatter(comb_none, np.array(y_all), color='blue', marker='o', label='Free Energies')\n",
    "print(y_all)"
   ]
  }
 ],
 "metadata": {
  "kernelspec": {
   "display_name": ".venv",
   "language": "python",
   "name": "python3"
  },
  "language_info": {
   "codemirror_mode": {
    "name": "ipython",
    "version": 3
   },
   "file_extension": ".py",
   "mimetype": "text/x-python",
   "name": "python",
   "nbconvert_exporter": "python",
   "pygments_lexer": "ipython3",
   "version": "3.12.3"
  }
 },
 "nbformat": 4,
 "nbformat_minor": 2
}
